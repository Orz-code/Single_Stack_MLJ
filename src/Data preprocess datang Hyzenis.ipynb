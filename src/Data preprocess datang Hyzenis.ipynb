{
 "cells": [
  {
   "cell_type": "markdown",
   "id": "fb7e0dd6",
   "metadata": {},
   "source": [
    "# 处理昊臻实验数据"
   ]
  },
  {
   "cell_type": "markdown",
   "id": "41734413",
   "metadata": {},
   "source": [
    "## 4.8-4.11-10s稳态性能测试"
   ]
  },
  {
   "cell_type": "code",
   "execution_count": 1,
   "id": "5ca8e3fc",
   "metadata": {},
   "outputs": [],
   "source": [
    "import gzip, os, pickle\n",
    "import pandas as pd\n",
    "import numpy as np\n",
    "import math\n",
    "\n",
    "import matplotlib.pyplot as plt\n",
    "\n",
    "from keys import Cols\n",
    "from utils.data_preprocess import Hyzenis_clean_excel_file"
   ]
  },
  {
   "cell_type": "markdown",
   "id": "9ca2ca2d",
   "metadata": {},
   "source": [
    "### 处理缺失值（-9999与前后形成等差数列）"
   ]
  },
  {
   "cell_type": "code",
   "execution_count": 10,
   "id": "448f78a5",
   "metadata": {},
   "outputs": [
    {
     "name": "stderr",
     "output_type": "stream",
     "text": [
      "d:\\Devs\\Single_Stack_MLJ\\src\\utils\\data_preprocess.py:443: FutureWarning: DataFrame.applymap has been deprecated. Use DataFrame.map instead.\n",
      "  df = df.applymap(lambda x: x.strip() if isinstance(x, str) else x)\n"
     ]
    }
   ],
   "source": [
    "input_file_path = r'D:\\Devs\\Single_Stack_MLJ\\data\\raw\\Static_Model_Verification_with_model.xlsx'\n",
    "\n",
    "df_missing_values = Hyzenis_clean_excel_file(input_file_path=input_file_path)\n",
    "df_missing_values['时间'] = pd.to_datetime(df_missing_values['时间'])"
   ]
  },
  {
   "cell_type": "markdown",
   "id": "7a1df5c0",
   "metadata": {},
   "source": [
    "### 依照keys重命名数据中的变量名"
   ]
  },
  {
   "cell_type": "code",
   "execution_count": 11,
   "id": "1f60c755",
   "metadata": {},
   "outputs": [],
   "source": [
    "# 定义列名映射字典\n",
    "column_mapping = {\n",
    "    '时间': Cols.date_time,\n",
    "    '1#碱液流量': Cols.lye_flow,\n",
    "    '1#碱液温度': Cols.lye_temp,\n",
    "    '1#氧槽温度': Cols.temp_O,\n",
    "    '1#氢槽温度': Cols.temp_H,\n",
    "    '1#电流显示': Cols.current,\n",
    "    '1#电压显示': Cols.voltage,\n",
    "    '氧中氢': Cols.HTO,\n",
    "    '氢中氧': Cols.OTH,\n",
    "}\n",
    "\n",
    "# 使用 rename 方法批量重命名列名\n",
    "df_renamed = df_missing_values.rename(columns=column_mapping)"
   ]
  },
  {
   "cell_type": "markdown",
   "id": "ecbbdfe8",
   "metadata": {},
   "source": [
    "### 计算衍生的变量"
   ]
  },
  {
   "cell_type": "code",
   "execution_count": 12,
   "id": "668e5f32",
   "metadata": {},
   "outputs": [],
   "source": [
    "df_additive = df_renamed\n",
    "\n",
    "# 计算小室电压\n",
    "Num_cells = 31\n",
    "df_additive[Cols.cell_voltage] = df_additive[Cols.voltage] / 31\n",
    "\n",
    "# 计算电流密度\n",
    "Diameter_Electrode = 560 * 1E-3\n",
    "Area_Electrode = math.pi * (Diameter_Electrode / 2) ** 2\n",
    "df_additive[Cols.current_density] = df_additive[Cols.current] / Area_Electrode\n",
    "\n",
    "# 计算出口温度\n",
    "df_additive[Cols.temp_out] = (df_additive[Cols.temp_H] + df_additive[Cols.temp_O]) / 2\n",
    "\n",
    "# 计算槽内压力\n",
    "df_additive[Cols.pressure] = (df_additive['氧分离器压力'] + df_additive['氢分离器压力'])"
   ]
  },
  {
   "cell_type": "markdown",
   "id": "0ae70e1e",
   "metadata": {},
   "source": [
    "### 生成环境温度"
   ]
  },
  {
   "cell_type": "code",
   "execution_count": null,
   "id": "598c9527",
   "metadata": {},
   "outputs": [],
   "source": [
    "from scipy.interpolate import CubicSpline\n",
    "\n",
    "# 原始数据点（x为10秒点数，y为值）\n",
    "x = np.array([0, 3600, 8640, 12240, 17280, 20880, 25920, 29520, 34560])\n",
    "y = np.array([18, 29, 19, 29, 14, 30, 18, 29, -50])\n",
    "\n",
    "# 生成三次样条插值函数\n",
    "cs = CubicSpline(x, y)\n",
    "\n",
    "# 生成10秒间隔的连续x值（从0到34560）\n",
    "x_continuous = np.arange(0, 34561)  # 包含34561个点（0到34560）\n",
    "y_smooth = cs(x_continuous)\n",
    "\n",
    "# 绘制曲线\n",
    "plt.figure(figsize=(12, 4))\n",
    "plt.plot(x_continuous, y_smooth, label='平滑曲线')\n",
    "plt.scatter(x, y, color='red', label='原始数据点')\n",
    "plt.xlabel('10秒点数（总时长：96小时）')\n",
    "plt.ylabel('值')\n",
    "plt.title('平滑曲线拟合结果')\n",
    "plt.legend()\n",
    "plt.grid(True)\n",
    "plt.show()"
   ]
  },
  {
   "cell_type": "code",
   "execution_count": null,
   "id": "5eabc480",
   "metadata": {},
   "outputs": [],
   "source": [
    "df_temp_envi = df_additive\n",
    "# 起始时间为4月8日4点，总时长96小时，结束时间为4月12日4点\n",
    "\n",
    "# 删除4点到8点30 10s一个点 共1620个点\n",
    "temp_envi = y_smooth[1620: 1620+len(df_temp_envi)]\n",
    "\n",
    "df_temp_envi[Cols.temp_environment] = temp_envi"
   ]
  },
  {
   "cell_type": "code",
   "execution_count": null,
   "id": "0f0d684c",
   "metadata": {},
   "outputs": [],
   "source": [
    "plt.figure(figsize=(18,5))\n",
    "plt.plot(df_temp_envi[Cols.date_time], df_temp_envi[Cols.temp_environment])"
   ]
  },
  {
   "cell_type": "markdown",
   "id": "fa2ad565",
   "metadata": {},
   "source": [
    "### 处理时间为无间断"
   ]
  },
  {
   "cell_type": "code",
   "execution_count": 14,
   "id": "34d111e1",
   "metadata": {},
   "outputs": [],
   "source": [
    "from datetime import timedelta\n",
    "\n",
    "def increment_excel_time(df_raw, time_column_index=0):\n",
    "    \"\"\"\n",
    "    处理Excel文件，使时间列从第一行开始，后续每行递增10秒\n",
    "    \n",
    "    参数:\n",
    "    input_file: 输入Excel文件路径\n",
    "    output_file: 输出Excel文件路径\n",
    "    time_column_index: 时间列的索引，默认为0（第一列）\n",
    "    \"\"\"\n",
    "    try:\n",
    "        # 读取Excel文件\n",
    "        df = df_raw\n",
    "        \n",
    "        # 获取列名（根据索引）\n",
    "        time_column_name = df.columns[time_column_index]\n",
    "        \n",
    "        # 将时间列转换为datetime格式\n",
    "        df[time_column_name] = pd.to_datetime(df[time_column_name], errors='coerce')\n",
    "        \n",
    "        # 检查第一行是否有有效时间\n",
    "        if pd.isna(df.iloc[0, time_column_index]):\n",
    "            raise ValueError(\"第一行的时间值无效或为空\")\n",
    "        \n",
    "        # 获取起始时间\n",
    "        start_time = df.iloc[0, time_column_index]\n",
    "        \n",
    "        # 为后续行设置递增8秒的时间\n",
    "        for i in range(1, len(df)):\n",
    "            df.iloc[i, time_column_index] = start_time + timedelta(seconds=8 * i)\n",
    "        \n",
    "        return df\n",
    "        \n",
    "    except Exception as e:\n",
    "        print(f\"处理过程中出错: {str(e)}\")\n",
    "        return None\n",
    "\n",
    "# 使用示例\n",
    "if __name__ == \"__main__\":\n",
    "    \n",
    "    # 处理Excel文件\n",
    "    result_df = increment_excel_time(df_raw=df_additive.copy())"
   ]
  },
  {
   "cell_type": "markdown",
   "id": "9689f5d6",
   "metadata": {},
   "source": [
    "### 保存处理后的数据"
   ]
  },
  {
   "cell_type": "code",
   "execution_count": 15,
   "id": "3b7b70ca",
   "metadata": {},
   "outputs": [],
   "source": [
    "# df_processed = df_temp_envi\n",
    "df_processed = result_df.copy()\n",
    "# 输出路径的目录部分\n",
    "target_folder = r'D:\\Devs\\Single_Stack_MLJ\\data\\processed'"
   ]
  },
  {
   "cell_type": "markdown",
   "id": "7c67e346",
   "metadata": {},
   "source": [
    "#### 保存为xlsx"
   ]
  },
  {
   "cell_type": "code",
   "execution_count": 16,
   "id": "b63b4540",
   "metadata": {},
   "outputs": [],
   "source": [
    "df_processed.to_excel(\n",
    "    os.path.join(\n",
    "        target_folder,\n",
    "        'Static_Model_Verification_with_model.xlsx'\n",
    "    )\n",
    ")"
   ]
  },
  {
   "cell_type": "markdown",
   "id": "fcf4bf6b",
   "metadata": {},
   "source": [
    "#### 保存为二进制gzip文件"
   ]
  },
  {
   "cell_type": "code",
   "execution_count": 17,
   "id": "8b2f285c",
   "metadata": {},
   "outputs": [],
   "source": [
    "with gzip.open(\n",
    "    os.path.join(\n",
    "        target_folder,\n",
    "        'Static_Model_Verification_with_model-1# gzip'\n",
    "    ),'wb'\n",
    ") as f:\n",
    "    pickle.dump(df_processed,f)"
   ]
  }
 ],
 "metadata": {
  "kernelspec": {
   "display_name": ".venv (3.13.5)",
   "language": "python",
   "name": "python3"
  },
  "language_info": {
   "codemirror_mode": {
    "name": "ipython",
    "version": 3
   },
   "file_extension": ".py",
   "mimetype": "text/x-python",
   "name": "python",
   "nbconvert_exporter": "python",
   "pygments_lexer": "ipython3",
   "version": "3.13.5"
  }
 },
 "nbformat": 4,
 "nbformat_minor": 5
}
